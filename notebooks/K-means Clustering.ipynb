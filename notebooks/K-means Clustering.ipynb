{
  "cells": [
    {
      "cell_type": "markdown",
      "source": [
        "# K-means Clustering"
      ],
      "metadata": {
        "nteract": {
          "transient": {
            "deleting": false
          }
        }
      }
    },
    {
      "cell_type": "code",
      "source": [
        "from pyspark.ml.clustering import KMeans\r\n",
        "from pyspark.ml.feature import VectorAssembler\r\n",
        "from pyspark.ml.evaluation import ClusteringEvaluator\r\n",
        "import matplotlib.pyplot as plt\r\n",
        "from pandas.plotting import parallel_coordinates"
      ],
      "outputs": [],
      "execution_count": null,
      "metadata": {
        "jupyter": {
          "source_hidden": false,
          "outputs_hidden": false
        },
        "nteract": {
          "transient": {
            "deleting": false
          }
        }
      }
    },
    {
      "cell_type": "markdown",
      "source": [
        "# Notebook variables"
      ],
      "metadata": {
        "nteract": {
          "transient": {
            "deleting": false
          }
        }
      }
    },
    {
      "cell_type": "code",
      "source": [
        "# NOTE: The data_root path must end in a '/'!\r\n",
        "filesystem_endpoint = \"[YOUR FILESYSTEM ENDPOINT]\"\r\n",
        "data_root = f\"abfss://{filesystem_endpoint}/data/totals/\"\r\n",
        "\r\n",
        "feature_cols = [\"PPG\", \"RPG\", \"APG\", \"Years_played\"]\r\n",
        "k = 6"
      ],
      "outputs": [],
      "execution_count": null,
      "metadata": {
        "jupyter": {
          "source_hidden": false,
          "outputs_hidden": false
        },
        "nteract": {
          "transient": {
            "deleting": false
          }
        }
      }
    },
    {
      "cell_type": "markdown",
      "source": [
        "# Reference Common notebook"
      ],
      "metadata": {
        "nteract": {
          "transient": {
            "deleting": false
          }
        }
      }
    },
    {
      "cell_type": "code",
      "source": [
        "%run \"Common\""
      ],
      "outputs": [],
      "execution_count": null,
      "metadata": {
        "jupyter": {
          "source_hidden": false,
          "outputs_hidden": false
        },
        "nteract": {
          "transient": {
            "deleting": false
          }
        }
      }
    },
    {
      "cell_type": "markdown",
      "source": [
        "## Load dataframe and drop null \"BLK\" values"
      ],
      "metadata": {
        "nteract": {
          "transient": {
            "deleting": false
          }
        }
      }
    },
    {
      "cell_type": "code",
      "source": [
        "df = load_data(data_root)\r\n",
        "df = df.dropna(subset=[\"BLK\"])"
      ],
      "outputs": [],
      "execution_count": null,
      "metadata": {
        "jupyter": {
          "source_hidden": false,
          "outputs_hidden": false
        },
        "nteract": {
          "transient": {
            "deleting": false
          }
        },
        "collapsed": false
      }
    },
    {
      "cell_type": "markdown",
      "source": [
        "## Generate the career stats dataframe"
      ],
      "metadata": {
        "nteract": {
          "transient": {
            "deleting": false
          }
        }
      }
    },
    {
      "cell_type": "code",
      "source": [
        "career_df = career_totals(df)\r\n",
        "years_played_df = years_played(df)\r\n",
        "career_df = career_df.join(years_played_df, \"PlayerId\", \"left\").orderBy(F.desc(\"Years_played\"))\r\n",
        "display(career_df)"
      ],
      "outputs": [],
      "execution_count": null,
      "metadata": {
        "jupyter": {
          "source_hidden": false,
          "outputs_hidden": false
        },
        "nteract": {
          "transient": {
            "deleting": false
          }
        },
        "collapsed": false
      }
    },
    {
      "cell_type": "markdown",
      "source": [
        "\r\n",
        "## Perform K-means clustering"
      ],
      "metadata": {
        "nteract": {
          "transient": {
            "deleting": false
          }
        }
      }
    },
    {
      "cell_type": "code",
      "source": [
        "assembler = VectorAssembler(inputCols=feature_cols, outputCol=\"features\")\r\n",
        "feature_df = assembler.transform(career_df)\r\n",
        "featuresCol = \"features\"\r\n",
        "kmeans = KMeans(featuresCol=featuresCol, k=k, seed=123)\r\n",
        "model = kmeans.fit(feature_df)\r\n",
        "predictions_df = model.transform(feature_df)\r\n",
        "player_clusters_df = predictions_df.select(\"PlayerId\", \"prediction\")\r\n",
        "\r\n",
        "display(player_clusters_df)\r\n"
      ],
      "outputs": [],
      "execution_count": null,
      "metadata": {
        "jupyter": {
          "source_hidden": false,
          "outputs_hidden": false
        },
        "nteract": {
          "transient": {
            "deleting": false
          }
        },
        "collapsed": false
      }
    },
    {
      "cell_type": "markdown",
      "source": [
        "## Evaluate the clustering"
      ],
      "metadata": {
        "nteract": {
          "transient": {
            "deleting": false
          }
        }
      }
    },
    {
      "cell_type": "code",
      "source": [
        "evaluator = ClusteringEvaluator()\r\n",
        "silhouette = evaluator.evaluate(predictions_df)\r\n",
        "\r\n",
        "inertia = model.summary.trainingCost\r\n",
        "print(f\"Inertia: {inertia}\")\r\n",
        "print(f\"Silhouette: {silhouette}\")"
      ],
      "outputs": [],
      "execution_count": null,
      "metadata": {
        "jupyter": {
          "source_hidden": false,
          "outputs_hidden": false
        },
        "nteract": {
          "transient": {
            "deleting": false
          }
        }
      }
    },
    {
      "cell_type": "markdown",
      "source": [
        "## Get the cluster a player belongs to"
      ],
      "metadata": {
        "nteract": {
          "transient": {
            "deleting": false
          }
        }
      }
    },
    {
      "cell_type": "code",
      "source": [
        "id = get_player_id(df, \"LeBron James\")[0]\r\n",
        "james_cluster = players_cluster(player_clusters_df, id)[0]\r\n",
        "james_cluster"
      ],
      "outputs": [],
      "execution_count": null,
      "metadata": {
        "jupyter": {
          "source_hidden": false,
          "outputs_hidden": false
        },
        "nteract": {
          "transient": {
            "deleting": false
          }
        }
      }
    },
    {
      "cell_type": "markdown",
      "source": [
        "## Show the players in cluster"
      ],
      "metadata": {
        "nteract": {
          "transient": {
            "deleting": false
          }
        }
      }
    },
    {
      "cell_type": "code",
      "source": [
        "display(players_in_cluster(player_clusters_df, james_cluster).orderBy(\"PlayerId\"))"
      ],
      "outputs": [],
      "execution_count": null,
      "metadata": {
        "jupyter": {
          "source_hidden": false,
          "outputs_hidden": false
        },
        "nteract": {
          "transient": {
            "deleting": false
          }
        },
        "collapsed": false
      }
    },
    {
      "cell_type": "markdown",
      "source": [
        "## Plot the clusters"
      ],
      "metadata": {
        "nteract": {
          "transient": {
            "deleting": false
          }
        }
      }
    },
    {
      "cell_type": "code",
      "source": [
        "fig, axes = plt.subplots(nrows=3, ncols=2, figsize=(16, 8))\r\n",
        "\r\n",
        "for k, ax in zip(range(k), axes.flat):\r\n",
        "    data = predictions_df.select(*feature_cols, \"prediction\").filter(predictions_df[\"prediction\"] == k).toPandas()\r\n",
        "    parallel_coordinates(data, \"prediction\", ax=ax)\r\n",
        "    ax.set_title(f\"Cluster {k}\")\r\n",
        "    ax.set_ylim(0, 30)\r\n",
        "\r\n",
        "plt.tight_layout()\r\n",
        "plt.show()"
      ],
      "outputs": [],
      "execution_count": null,
      "metadata": {
        "jupyter": {
          "source_hidden": false,
          "outputs_hidden": false
        },
        "nteract": {
          "transient": {
            "deleting": false
          }
        }
      }
    }
  ],
  "metadata": {
    "kernelspec": {
      "name": "synapse_pyspark",
      "language": "Python",
      "display_name": "Synapse PySpark"
    },
    "language_info": {
      "name": "python"
    },
    "kernel_info": {
      "name": "synapse_pyspark"
    },
    "description": null,
    "save_output": true,
    "synapse_widget": {
      "version": "0.1",
      "state": {}
    }
  },
  "nbformat": 4,
  "nbformat_minor": 2
}