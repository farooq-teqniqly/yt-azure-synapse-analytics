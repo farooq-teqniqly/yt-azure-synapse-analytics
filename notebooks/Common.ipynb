{
  "nbformat": 4,
  "nbformat_minor": 2,
  "cells": [
    {
      "cell_type": "markdown",
      "metadata": {
        "nteract": {
          "transient": {
            "deleting": false
          }
        }
      },
      "source": [
        "# Functions Shared Across Notebooks"
      ]
    },
    {
      "cell_type": "code",
      "execution_count": null,
      "outputs": [],
      "metadata": {},
      "source": [
        "from pyspark.sql import functions as F\r\n",
        "from pyspark.sql.types import StructType, StructField, IntegerType, StringType, FloatType"
      ]
    },
    {
      "cell_type": "code",
      "execution_count": null,
      "outputs": [],
      "metadata": {
        "jupyter": {
          "source_hidden": false,
          "outputs_hidden": false
        },
        "nteract": {
          "transient": {
            "deleting": false
          }
        }
      },
      "source": [
        "schema = StructType([\r\n",
        "    StructField('Rk', IntegerType()),\r\n",
        "    StructField('Player', StringType()),\r\n",
        "    StructField('Pos', StringType()),\r\n",
        "    StructField('Age', IntegerType()),\r\n",
        "    StructField('Tm', StringType()),\r\n",
        "    StructField('G', IntegerType()),\r\n",
        "    StructField('GS', IntegerType()),\r\n",
        "    StructField('MP', IntegerType()),\r\n",
        "    StructField('FG', IntegerType()),\r\n",
        "    StructField('FGA', IntegerType()),\r\n",
        "    StructField('FG%', FloatType()),\r\n",
        "    StructField('3P', IntegerType()),\r\n",
        "    StructField('3PA', IntegerType()),\r\n",
        "    StructField('3P%', FloatType()),\r\n",
        "    StructField('2P', IntegerType()),\r\n",
        "    StructField('2PA', IntegerType()),\r\n",
        "    StructField('2P%', FloatType()),\r\n",
        "    StructField('eFG%', FloatType()),\r\n",
        "    StructField('FT', IntegerType()),\r\n",
        "    StructField('FTA', IntegerType()),\r\n",
        "    StructField('FT%', FloatType()),\r\n",
        "    StructField('ORB', IntegerType()),\r\n",
        "    StructField('DRB', IntegerType()),\r\n",
        "    StructField('TRB', IntegerType()),\r\n",
        "    StructField('AST', IntegerType()),\r\n",
        "    StructField('STL', IntegerType()),\r\n",
        "    StructField('BLK', IntegerType()),\r\n",
        "    StructField('TOV', IntegerType()),\r\n",
        "    StructField('PF', IntegerType()),\r\n",
        "    StructField('PTS', IntegerType()),\r\n",
        "    StructField('Player-additional', StringType())\r\n",
        "])\r\n",
        ""
      ]
    },
    {
      "cell_type": "code",
      "execution_count": null,
      "outputs": [],
      "metadata": {
        "jupyter": {
          "source_hidden": false,
          "outputs_hidden": false
        },
        "nteract": {
          "transient": {
            "deleting": false
          }
        }
      },
      "source": [
        "def load_data(data_root):\r\n",
        "    df = spark.read.format(\"csv\").option(\"header\", \"true\").schema(schema).load(data_root + \"*.csv\")\r\n",
        "    df = df.withColumn(\"file_name\", F.input_file_name())\r\n",
        "    df = df.withColumn(\"Year\", F.regexp_extract(df[\"file_name\"], r\"\\d{4}\", 0))\r\n",
        "    df = df.drop(\"file_name\")\r\n",
        "    df = df.withColumn(\"Player\", F.regexp_replace(df[\"Player\"], \"\\*\", \"\"))\r\n",
        "    df = df.withColumnRenamed(\"Player-additional\", \"PlayerId\")\r\n",
        "\r\n",
        "    return df\r\n",
        "\r\n",
        "def player_summary(df, name):\r\n",
        "    return df.filter(df[\"Player\"] == name).orderBy(F.desc(\"Year\"))\r\n",
        "\r\n",
        "def format_avg(numerator_col, denominator_col, decimal_places=1):\r\n",
        "    if isinstance(denominator_col, str):\r\n",
        "        denominator_col = F.col(denominator_col)\r\n",
        "    return F.format_number(F.col(numerator_col) / denominator_col, decimal_places)\r\n",
        "\r\n",
        "per_game_avg = lambda numerator_col, decimal_places=1: \\\r\n",
        "    format_avg(numerator_col, \"G\", decimal_places)\r\n",
        "\r\n",
        "per_36_avg = lambda numerator_col, decimal_places=1: \\\r\n",
        "    format_avg(numerator_col, (F.col(\"MP\") / 36), decimal_places)\r\n",
        "\r\n",
        "\r\n",
        "def career_totals(df):\r\n",
        "    ret_df = df.groupBy(\"PlayerId\") \\\r\n",
        "        .agg(F.sum(\"PTS\").alias(\"PTS\"),\r\n",
        "            F.sum(\"TRB\").alias(\"TRB\"),\r\n",
        "            F.sum(\"AST\").alias(\"AST\"),\r\n",
        "            F.sum(\"BLK\").alias(\"BLK\"),\r\n",
        "            F.sum(\"G\").alias(\"G\"),\r\n",
        "            F.sum(\"MP\").alias(\"MP\"))\r\n",
        "\r\n",
        "    ret_df = ret_df.withColumn(\"PPG\", per_game_avg(\"PTS\")) \\\r\n",
        "                    .withColumn(\"RPG\", per_game_avg(\"TRB\")) \\\r\n",
        "                    .withColumn(\"APG\", per_game_avg(\"AST\")) \\\r\n",
        "                    .withColumn(\"BPG\", per_game_avg(\"BLK\")) \\\r\n",
        "                    .withColumn(\"PP36\", per_36_avg(\"PTS\")) \\\r\n",
        "                    .withColumn(\"RP36\", per_36_avg(\"TRB\")) \\\r\n",
        "                    .withColumn(\"AP36\", per_36_avg(\"AST\")) \\\r\n",
        "                    .withColumn(\"BP36\", per_36_avg(\"BLK\"))\r\n",
        "\r\n",
        "    float_cols = [\"PPG\", \"RPG\", \"APG\", \"BPG\", \"PP36\", \"RP36\", \"AP36\", \"BP36\"]\r\n",
        "\r\n",
        "    for float_col in float_cols:\r\n",
        "        ret_df = ret_df.withColumn(float_col, F.col(float_col).cast(\"float\"))\r\n",
        "\r\n",
        "    return ret_df\r\n",
        "\r\n",
        "def get_player_id(df, name):\r\n",
        "    filtered_df = df.filter(df[\"Player\"] == name)\r\n",
        "    rows = filtered_df.select(\"PlayerId\").distinct().collect()\r\n",
        "    return [row.PlayerId for row in rows]\r\n",
        "\r\n",
        "def get_player_name(df, id):\r\n",
        "    filtered_df = df.filter(df[\"PlayerId\"] == id)\r\n",
        "    rows = filtered_df.select(\"Player\").distinct().collect()\r\n",
        "    return [row.Player for row in rows]\r\n",
        "\r\n",
        "def years_played(df):\r\n",
        "    return df.select([\"PlayerId\", \"Year\"]).distinct() \\\r\n",
        "    .groupBy(\"PlayerId\") \\\r\n",
        "    .agg(F.count(\"Year\").alias(\"Years_played\"))\r\n",
        "\r\n",
        "def players_in_cluster(df, cluster):\r\n",
        "    return df.filter(df[\"prediction\"] == cluster)\r\n",
        "\r\n",
        "def players_cluster(df, id):\r\n",
        "    filtered_df = df.filter(df[\"PlayerId\"] == id)\r\n",
        "    rows = filtered_df.select(\"prediction\").distinct().collect()\r\n",
        "    return [row.prediction for row in rows]"
      ]
    }
  ],
  "metadata": {
    "description": null,
    "kernelspec": {
      "name": "synapse_pyspark",
      "display_name": "python"
    },
    "language_info": {
      "name": "python"
    }
  }
}